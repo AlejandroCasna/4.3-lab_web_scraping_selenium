{
 "cells": [
  {
   "cell_type": "markdown",
   "metadata": {},
   "source": [
    "# Web Scraping Lab\n",
    "\n",
    "You will find in this notebook some scrapy exercises to practise your scraping skills.\n",
    "\n",
    "**Tips:**\n",
    "\n",
    "- Check the response status code for each request to ensure you have obtained the intended contennt.\n",
    "- Print the response text in each request to understand the kind of info you are getting and its format.\n",
    "- Check for patterns in the response text to extract the data/info requested in each question.\n",
    "- Visit each url and take a look at its source through Chrome DevTools. You'll need to identify the html tags, special class names etc. used for the html content you are expected to extract."
   ]
  },
  {
   "cell_type": "markdown",
   "metadata": {},
   "source": [
    "- [Selenium Doc](https://www.selenium.dev/documentation/)\n",
    "- [Requests library](http://docs.python-requests.org/en/master/#the-user-guide) documentation \n",
    "- [Urllib](https://docs.python.org/3/library/urllib.html#module-urllib)\n",
    "- [re lib](https://docs.python.org/3/library/re.html)\n",
    "- [lxml lib](https://lxml.de/)\n",
    "- [Scrapy](https://scrapy.org/)\n",
    "- [List of HTTP status codes](https://en.wikipedia.org/wiki/List_of_HTTP_status_codes)\n",
    "- [HTML basics](http://www.simplehtmlguide.com/cheatsheet.php)\n",
    "- [CSS basics](https://www.cssbasics.com/#page_start)"
   ]
  },
  {
   "cell_type": "markdown",
   "metadata": {},
   "source": [
    "#### Below are the libraries and modules you may need. `Selenium` and `pandas` are imported for you."
   ]
  },
  {
   "cell_type": "code",
   "execution_count": 1,
   "metadata": {},
   "outputs": [],
   "source": [
    "import pandas as pd\n",
    "from selenium import webdriver\n",
    "from selenium.webdriver.chrome.options import Options\n",
    "from webdriver_manager.chrome import ChromeDriverManager\n",
    "from selenium.webdriver.common.by import By"
   ]
  },
  {
   "cell_type": "markdown",
   "metadata": {},
   "source": [
    "#### Enable the options you may need. In the next cell you have an example of them but you can choose to use them or not."
   ]
  },
  {
   "cell_type": "code",
   "execution_count": 2,
   "metadata": {},
   "outputs": [],
   "source": [
    "#driver configuration\n",
    "opciones=Options()\n",
    "\n",
    "opciones.add_experimental_option('excludeSwitches', ['enable-automation'])\n",
    "opciones.add_experimental_option('useAutomationExtension', False)\n",
    "opciones.headless=False    # si True, no aperece la ventana (headless=no visible)\n",
    "opciones.add_argument('--start-maximized')         # comienza maximizado\n",
    "#opciones.add_argument('user-data-dir=selenium')    # mantiene las cookies\n",
    "#opciones.add_extension('driver_folder/adblock.crx')       # adblocker\n",
    "opciones.add_argument('--incognito')"
   ]
  },
  {
   "cell_type": "code",
   "execution_count": null,
   "metadata": {},
   "outputs": [],
   "source": [
    "driver = \"chromedriver.exe\" #remember substitute this for your driver path\n",
    "driver = webdriver.Chrome(options = opciones)\n",
    "driver.get('https://www.google.es')\n",
    "#driver.quit()"
   ]
  },
  {
   "cell_type": "code",
   "execution_count": null,
   "metadata": {},
   "outputs": [],
   "source": [
    "driver.quit()"
   ]
  },
  {
   "cell_type": "markdown",
   "metadata": {},
   "source": [
    "#### Download, parse, and print the content from the Trending Developers page from GitHub:"
   ]
  },
  {
   "cell_type": "code",
   "execution_count": 3,
   "metadata": {},
   "outputs": [],
   "source": [
    "# This is the url you will scrape in this exercise\n",
    "url = 'https://github.com/trending/developers'"
   ]
  },
  {
   "cell_type": "code",
   "execution_count": 4,
   "metadata": {},
   "outputs": [],
   "source": [
    "#your code\n",
    "driver = webdriver.Chrome(options = opciones)\n",
    "driver.get(url)"
   ]
  },
  {
   "cell_type": "code",
   "execution_count": 5,
   "metadata": {},
   "outputs": [
    {
     "data": {
      "text/plain": [
       "'Don Jayamanne\\nDonJayamanne'"
      ]
     },
     "execution_count": 5,
     "metadata": {},
     "output_type": "execute_result"
    }
   ],
   "source": [
    "driver.find_elements(By.CSS_SELECTOR, 'div.col-md-6')[4].text\n"
   ]
  },
  {
   "cell_type": "code",
   "execution_count": 6,
   "metadata": {},
   "outputs": [
    {
     "data": {
      "text/plain": [
       "['Ismail Pelaseyed\\nhomanp',\n",
       " 'Alex Stokes\\nralexstokes',\n",
       " 'Don Jayamanne\\nDonJayamanne',\n",
       " 'Stefan Prodan\\nstefanprodan',\n",
       " 'Travis Cline\\ntmc',\n",
       " 'Oliver\\nSchrodingersGat',\n",
       " 'dgtlmoon',\n",
       " 'Guillaume Klein\\nguillaumekln',\n",
       " 'lllyasviel',\n",
       " 'Angelos Chalaris\\nChalarangelo',\n",
       " 'Jon Skeet\\njskeet',\n",
       " 'Chris Banes\\nchrisbanes',\n",
       " 'Carlos Scheidegger\\ncscheid',\n",
       " 'Anders Eknert\\nanderseknert',\n",
       " 'Emil Ernerfeldt\\nemilk',\n",
       " 'Andrea Aime\\naaime',\n",
       " 'Mattt\\nmattt',\n",
       " 'Meng Zhang\\nwsxiaoys',\n",
       " 'Shahed Nasser\\nshahednasser',\n",
       " 'dkhamsing',\n",
       " 'Kieron Quinn\\nKieronQuinn',\n",
       " 'afc163\\nafc163',\n",
       " 'Alan Donovan\\nadonovan',\n",
       " 'Lee Calcote\\nleecalcote',\n",
       " 'Costa Huang\\nvwxyzjn']"
      ]
     },
     "execution_count": 6,
     "metadata": {},
     "output_type": "execute_result"
    }
   ],
   "source": [
    "lista = [e.text for e in driver.find_elements(By.CSS_SELECTOR, 'div.col-md-6')]\n",
    "lista[0::2]"
   ]
  },
  {
   "cell_type": "code",
   "execution_count": 7,
   "metadata": {},
   "outputs": [
    {
     "data": {
      "text/plain": [
       "25"
      ]
     },
     "execution_count": 7,
     "metadata": {},
     "output_type": "execute_result"
    }
   ],
   "source": [
    "len(lista[0::2])"
   ]
  },
  {
   "cell_type": "code",
   "execution_count": 8,
   "metadata": {},
   "outputs": [],
   "source": [
    "driver.quit()"
   ]
  },
  {
   "cell_type": "markdown",
   "metadata": {},
   "source": [
    "#### Display the names of the trending developers retrieved in the previous step.\n",
    "\n",
    "Your output should be a Python list of developer names. Each name should not contain any html tag.\n",
    "\n",
    "**Instructions:**\n",
    "\n",
    "1. Find out the html tag and class names used for the developer names.\n",
    "\n",
    "1. Use string manipulation techniques to replace whitespaces and linebreaks (i.e. `\\n`) in the *text* of each html element. Use a list to store the clean names.\n",
    "\n",
    "1. Print the list of names.\n",
    "\n",
    "Your output should look like below:\n",
    "\n",
    "```\n",
    "['trimstray (@trimstray)',\n",
    " 'joewalnes (JoeWalnes)',\n",
    " 'charlax (Charles-AxelDein)',\n",
    " 'ForrestKnight (ForrestKnight)',\n",
    " 'revery-ui (revery-ui)',\n",
    " 'alibaba (Alibaba)',\n",
    " 'Microsoft (Microsoft)',\n",
    " 'github (GitHub)',\n",
    " 'facebook (Facebook)',\n",
    " 'boazsegev (Bo)',\n",
    " 'google (Google)',\n",
    " 'cloudfetch',\n",
    " 'sindresorhus (SindreSorhus)',\n",
    " 'tensorflow',\n",
    " 'apache (TheApacheSoftwareFoundation)',\n",
    " 'DevonCrawford (DevonCrawford)',\n",
    " 'ARMmbed (ArmMbed)',\n",
    " 'vuejs (vuejs)',\n",
    " 'fastai (fast.ai)',\n",
    " 'QiShaoXuan (Qi)',\n",
    " 'joelparkerhenderson (JoelParkerHenderson)',\n",
    " 'torvalds (LinusTorvalds)',\n",
    " 'CyC2018',\n",
    " 'komeiji-satori (神楽坂覚々)',\n",
    " 'script-8']\n",
    " ```"
   ]
  },
  {
   "cell_type": "code",
   "execution_count": null,
   "metadata": {},
   "outputs": [],
   "source": [
    "#your code"
   ]
  },
  {
   "cell_type": "markdown",
   "metadata": {},
   "source": [
    "#### Display the trending Python repositories in GitHub\n",
    "\n",
    "The steps to solve this problem is similar to the previous one except that you need to find out the repository names instead of developer names."
   ]
  },
  {
   "cell_type": "code",
   "execution_count": 50,
   "metadata": {},
   "outputs": [],
   "source": [
    "# This is the url you will scrape in this exercise\n",
    "url = 'https://github.com/trending/python?since=daily'"
   ]
  },
  {
   "cell_type": "code",
   "execution_count": 51,
   "metadata": {},
   "outputs": [],
   "source": [
    "#your code\n",
    "driver = webdriver.Chrome(options = opciones)\n",
    "driver.get(url)"
   ]
  },
  {
   "cell_type": "code",
   "execution_count": 93,
   "metadata": {},
   "outputs": [],
   "source": [
    "nombres = driver.find_elements(By.TAG_NAME, 'h2')\n",
    "nombres = nombres[1:-1]"
   ]
  },
  {
   "cell_type": "code",
   "execution_count": 99,
   "metadata": {},
   "outputs": [
    {
     "data": {
      "text/plain": [
       "['swisskyrepo / PayloadsAllTheThings',\n",
       " 'THUDM / ChatGLM3',\n",
       " 'PaddlePaddle / PaddleOCR',\n",
       " 'langchain-ai / langchain',\n",
       " 'dataelement / bisheng',\n",
       " 'Azure / MS-AMP',\n",
       " 'xxlong0 / Wonder3D',\n",
       " 'yunjey / pytorch-tutorial',\n",
       " 'facebookresearch / llama',\n",
       " 'localstack / localstack',\n",
       " 'OpenBMB / ChatDev',\n",
       " 'ray-project / ray',\n",
       " 'CycodeLabs / raven',\n",
       " 'ageitgey / face_recognition',\n",
       " 'iam-veeramalla / aws-devops-zero-to-hero',\n",
       " 'openai / whisper',\n",
       " 'sqlfluff / sqlfluff',\n",
       " 'imartinez / privateGPT',\n",
       " 'reflex-dev / reflex',\n",
       " 'donnemartin / system-design-primer',\n",
       " 'lm-sys / FastChat',\n",
       " 'togethercomputer / RedPajama-Data',\n",
       " 'SkyworkAI / Skywork',\n",
       " 'microsoft / qlib',\n",
       " 'pathwaycom / llm-app']"
      ]
     },
     "execution_count": 99,
     "metadata": {},
     "output_type": "execute_result"
    }
   ],
   "source": [
    "lista_nombres=[]\n",
    "for e in nombres:\n",
    "    lista_nombres.append(e.text)\n",
    "lista_nombres"
   ]
  },
  {
   "cell_type": "code",
   "execution_count": 100,
   "metadata": {},
   "outputs": [],
   "source": [
    "driver.quit()"
   ]
  },
  {
   "cell_type": "markdown",
   "metadata": {},
   "source": [
    "#### Display all the image links from Walt Disney wikipedia page"
   ]
  },
  {
   "cell_type": "code",
   "execution_count": 101,
   "metadata": {},
   "outputs": [],
   "source": [
    "# This is the url you will scrape in this exercise\n",
    "url = 'https://en.wikipedia.org/wiki/Walt_Disney'"
   ]
  },
  {
   "cell_type": "code",
   "execution_count": 103,
   "metadata": {},
   "outputs": [],
   "source": [
    "#your code\n",
    "driver = webdriver.Chrome(options = opciones)\n",
    "driver.get(url)"
   ]
  },
  {
   "cell_type": "code",
   "execution_count": 277,
   "metadata": {},
   "outputs": [],
   "source": [
    "elements = driver.find_elements(By.TAG_NAME, 'img')"
   ]
  },
  {
   "cell_type": "code",
   "execution_count": 278,
   "metadata": {},
   "outputs": [
    {
     "data": {
      "text/plain": [
       "['https://en.wikipedia.org/static/images/icons/wikipedia.png',\n",
       " 'https://en.wikipedia.org/static/images/mobile/copyright/wikipedia-wordmark-en.svg',\n",
       " 'https://en.wikipedia.org/static/images/mobile/copyright/wikipedia-tagline-en.svg',\n",
       " 'https://upload.wikimedia.org/wikipedia/en/thumb/e/e7/Cscr-featured.svg/20px-Cscr-featured.svg.png',\n",
       " 'https://upload.wikimedia.org/wikipedia/en/thumb/8/8c/Extended-protection-shackle.svg/20px-Extended-protection-shackle.svg.png',\n",
       " 'https://upload.wikimedia.org/wikipedia/commons/thumb/d/df/Walt_Disney_1946.JPG/220px-Walt_Disney_1946.JPG',\n",
       " 'https://upload.wikimedia.org/wikipedia/commons/thumb/8/87/Walt_Disney_1942_signature.svg/150px-Walt_Disney_1942_signature.svg.png',\n",
       " 'https://upload.wikimedia.org/wikipedia/commons/thumb/3/3a/Walt_Disney_Birthplace_Exterior_Hermosa_Chicago_Illinois.jpg/220px-Walt_Disney_Birthplace_Exterior_Hermosa_Chicago_Illinois.jpg',\n",
       " 'https://upload.wikimedia.org/wikipedia/commons/thumb/c/c4/Walt_Disney_envelope_ca._1921.jpg/220px-Walt_Disney_envelope_ca._1921.jpg',\n",
       " 'https://upload.wikimedia.org/wikipedia/en/thumb/4/4e/Steamboat-willie.jpg/220px-Steamboat-willie.jpg',\n",
       " 'https://upload.wikimedia.org/wikipedia/commons/thumb/c/cd/Walt_Disney_Snow_white_1937_trailer_screenshot_%2813%29.jpg/220px-Walt_Disney_Snow_white_1937_trailer_screenshot_%2813%29.jpg',\n",
       " 'https://upload.wikimedia.org/wikipedia/commons/thumb/1/15/Disney_drawing_goofy.jpg/170px-Disney_drawing_goofy.jpg',\n",
       " 'https://upload.wikimedia.org/wikipedia/commons/thumb/8/8c/WaltDisneyplansDisneylandDec1954.jpg/220px-WaltDisneyplansDisneylandDec1954.jpg',\n",
       " 'https://upload.wikimedia.org/wikipedia/commons/thumb/f/ff/Walt_disney_portrait_right.jpg/170px-Walt_disney_portrait_right.jpg',\n",
       " 'https://upload.wikimedia.org/wikipedia/commons/thumb/1/1a/Walt_Disney_Grave.JPG/170px-Walt_Disney_Grave.JPG',\n",
       " 'https://upload.wikimedia.org/wikipedia/commons/thumb/1/1b/Nuvola_apps_kaboodle.svg/16px-Nuvola_apps_kaboodle.svg.png',\n",
       " 'https://upload.wikimedia.org/wikipedia/commons/thumb/1/13/DisneySchiphol1951.jpg/220px-DisneySchiphol1951.jpg',\n",
       " 'https://upload.wikimedia.org/wikipedia/commons/thumb/6/6c/Disney1968.jpg/170px-Disney1968.jpg',\n",
       " 'https://upload.wikimedia.org/wikipedia/commons/thumb/b/b0/Disney_Oscar_1953_%28cropped%29.jpg/170px-Disney_Oscar_1953_%28cropped%29.jpg',\n",
       " 'https://upload.wikimedia.org/wikipedia/en/thumb/4/4a/Commons-logo.svg/30px-Commons-logo.svg.png',\n",
       " 'https://upload.wikimedia.org/wikipedia/commons/thumb/4/4c/Wikisource-logo.svg/38px-Wikisource-logo.svg.png',\n",
       " 'https://upload.wikimedia.org/wikipedia/commons/thumb/f/fa/Wikiquote-logo.svg/34px-Wikiquote-logo.svg.png',\n",
       " 'https://upload.wikimedia.org/wikipedia/en/thumb/8/8a/OOjs_UI_icon_edit-ltr-progressive.svg/10px-OOjs_UI_icon_edit-ltr-progressive.svg.png',\n",
       " 'https://upload.wikimedia.org/wikipedia/en/thumb/8/8a/OOjs_UI_icon_edit-ltr-progressive.svg/10px-OOjs_UI_icon_edit-ltr-progressive.svg.png',\n",
       " 'https://upload.wikimedia.org/wikipedia/en/thumb/9/96/Symbol_category_class.svg/16px-Symbol_category_class.svg.png',\n",
       " 'https://upload.wikimedia.org/wikipedia/commons/thumb/e/e3/Disneyland_Resort_logo.svg/135px-Disneyland_Resort_logo.svg.png',\n",
       " 'https://upload.wikimedia.org/wikipedia/commons/thumb/d/da/Animation_disc.svg/20px-Animation_disc.svg.png',\n",
       " 'https://upload.wikimedia.org/wikipedia/en/thumb/6/69/P_vip.svg/19px-P_vip.svg.png',\n",
       " 'https://upload.wikimedia.org/wikipedia/commons/thumb/1/1a/Magic_Kingdom_castle.jpg/15px-Magic_Kingdom_castle.jpg',\n",
       " 'https://upload.wikimedia.org/wikipedia/en/thumb/e/e7/Video-x-generic.svg/19px-Video-x-generic.svg.png',\n",
       " 'https://upload.wikimedia.org/wikipedia/commons/thumb/a/a3/Flag_of_Los_Angeles_County%2C_California.svg/21px-Flag_of_Los_Angeles_County%2C_California.svg.png',\n",
       " 'https://upload.wikimedia.org/wikipedia/commons/thumb/8/8c/Blank_television_set.svg/21px-Blank_television_set.svg.png',\n",
       " 'https://upload.wikimedia.org/wikipedia/en/thumb/a/a4/Flag_of_the_United_States.svg/21px-Flag_of_the_United_States.svg.png',\n",
       " 'https://upload.wikimedia.org/wikipedia/en/thumb/8/8a/OOjs_UI_icon_edit-ltr-progressive.svg/10px-OOjs_UI_icon_edit-ltr-progressive.svg.png',\n",
       " 'https://en.wikipedia.org/static/images/footer/wikimedia-button.png',\n",
       " 'https://en.wikipedia.org/static/images/footer/poweredby_mediawiki_88x31.png']"
      ]
     },
     "execution_count": 278,
     "metadata": {},
     "output_type": "execute_result"
    }
   ],
   "source": [
    "links = [element.get_attribute(\"src\") for element in elements]\n",
    "links"
   ]
  },
  {
   "cell_type": "markdown",
   "metadata": {},
   "source": [
    "#### Retrieve an arbitary Wikipedia page of \"Python\" and create a list of links on that page"
   ]
  },
  {
   "cell_type": "code",
   "execution_count": 366,
   "metadata": {},
   "outputs": [],
   "source": [
    "# This is the url you will scrape in this exercise\n",
    "url ='https://en.wikipedia.org/wiki/Python' "
   ]
  },
  {
   "cell_type": "code",
   "execution_count": 367,
   "metadata": {},
   "outputs": [],
   "source": [
    "#your code\n",
    "driver = webdriver.Chrome(options = opciones)\n",
    "driver.get(url)"
   ]
  },
  {
   "cell_type": "code",
   "execution_count": 334,
   "metadata": {},
   "outputs": [
    {
     "data": {
      "text/plain": [
       "[<selenium.webdriver.remote.webelement.WebElement (session=\"014755aabbf4641ab40092aaf09f4d44\", element=\"6B0271C7BB9FE623809513DF5AA02A68_element_23\")>]"
      ]
     },
     "execution_count": 334,
     "metadata": {},
     "output_type": "execute_result"
    }
   ],
   "source": [
    "driver.find_elements(By.CSS_SELECTOR, '#mw-content-text > div.mw-parser-output > ul:nth-child(7) > li:nth-child(1) > ul > li > a')"
   ]
  },
  {
   "cell_type": "code",
   "execution_count": 380,
   "metadata": {},
   "outputs": [
    {
     "data": {
      "text/plain": [
       "<selenium.webdriver.remote.webelement.WebElement (session=\"542d1030362519c1492ec35eb30545ef\", element=\"BCB1AB87E6C20E14B674594A39342E4A_element_412\")>"
      ]
     },
     "execution_count": 380,
     "metadata": {},
     "output_type": "execute_result"
    }
   ],
   "source": [
    "driver.find_elements(By.CSS_SELECTOR, 'a[href]')[1]"
   ]
  },
  {
   "cell_type": "code",
   "execution_count": 336,
   "metadata": {},
   "outputs": [
    {
     "name": "stdout",
     "output_type": "stream",
     "text": [
      "Texto: , Enlace: https://en.wikipedia.org/wiki/Main_Page\n",
      "Texto: , Enlace: https://en.wikipedia.org/wiki/Wikipedia:Contents\n",
      "Texto: , Enlace: https://en.wikipedia.org/wiki/Portal:Current_events\n",
      "Texto: , Enlace: https://en.wikipedia.org/wiki/Special:Random\n",
      "Texto: , Enlace: https://en.wikipedia.org/wiki/Wikipedia:About\n",
      "Texto: , Enlace: https://en.wikipedia.org/wiki/Wikipedia:Contact_us\n",
      "Texto: , Enlace: https://donate.wikimedia.org/wiki/Special:FundraiserRedirector?utm_source=donate&utm_medium=sidebar&utm_campaign=C13_en.wikipedia.org&uselang=en\n",
      "Texto: , Enlace: https://en.wikipedia.org/wiki/Help:Contents\n",
      "Texto: , Enlace: https://en.wikipedia.org/wiki/Help:Introduction\n",
      "Texto: , Enlace: https://en.wikipedia.org/wiki/Wikipedia:Community_portal\n",
      "Texto: , Enlace: https://en.wikipedia.org/wiki/Special:RecentChanges\n",
      "Texto: , Enlace: https://en.wikipedia.org/wiki/Wikipedia:File_upload_wizard\n",
      "Texto: Create account, Enlace: https://en.wikipedia.org/w/index.php?title=Special:CreateAccount&returnto=Python\n",
      "Texto: Log in, Enlace: https://en.wikipedia.org/w/index.php?title=Special:UserLogin&returnto=Python\n",
      "Texto: , Enlace: https://en.wikipedia.org/w/index.php?title=Special:CreateAccount&returnto=Python\n",
      "Texto: , Enlace: https://en.wikipedia.org/w/index.php?title=Special:UserLogin&returnto=Python\n",
      "Texto: , Enlace: https://en.wikipedia.org/wiki/Special:MyContributions\n",
      "Texto: , Enlace: https://en.wikipedia.org/wiki/Special:MyTalk\n",
      "Texto: (Top), Enlace: https://en.wikipedia.org/wiki/Python#\n",
      "Texto: Snakes, Enlace: https://en.wikipedia.org/wiki/Python#Snakes\n",
      "Texto: Computing, Enlace: https://en.wikipedia.org/wiki/Python#Computing\n",
      "Texto: People, Enlace: https://en.wikipedia.org/wiki/Python#People\n",
      "Texto: Roller coasters, Enlace: https://en.wikipedia.org/wiki/Python#Roller_coasters\n",
      "Texto: Vehicles, Enlace: https://en.wikipedia.org/wiki/Python#Vehicles\n",
      "Texto: Weaponry, Enlace: https://en.wikipedia.org/wiki/Python#Weaponry\n",
      "Texto: Other uses, Enlace: https://en.wikipedia.org/wiki/Python#Other_uses\n",
      "Texto: See also, Enlace: https://en.wikipedia.org/wiki/Python#See_also\n",
      "Texto: , Enlace: https://af.wikipedia.org/wiki/Python\n",
      "Texto: , Enlace: https://als.wikipedia.org/wiki/Python\n",
      "Texto: , Enlace: https://ar.wikipedia.org/wiki/%D8%A8%D8%A7%D9%8A%D8%AB%D9%88%D9%86_(%D8%AA%D9%88%D8%B6%D9%8A%D8%AD)\n",
      "Texto: , Enlace: https://az.wikipedia.org/wiki/Python_(d%C9%99qiql%C9%99%C5%9Fdirm%C9%99)\n",
      "Texto: , Enlace: https://bn.wikipedia.org/wiki/%E0%A6%AA%E0%A6%BE%E0%A6%87%E0%A6%A5%E0%A6%A8_(%E0%A6%A6%E0%A7%8D%E0%A6%AC%E0%A7%8D%E0%A6%AF%E0%A6%B0%E0%A7%8D%E0%A6%A5%E0%A6%A4%E0%A6%BE_%E0%A6%A8%E0%A6%BF%E0%A6%B0%E0%A6%B8%E0%A6%A8)\n",
      "Texto: , Enlace: https://be.wikipedia.org/wiki/Python\n",
      "Texto: , Enlace: https://bg.wikipedia.org/wiki/%D0%9F%D0%B8%D1%82%D0%BE%D0%BD_(%D0%BF%D0%BE%D1%8F%D1%81%D0%BD%D0%B5%D0%BD%D0%B8%D0%B5)\n",
      "Texto: , Enlace: https://cs.wikipedia.org/wiki/Python_(rozcestn%C3%ADk)\n",
      "Texto: , Enlace: https://da.wikipedia.org/wiki/Python\n",
      "Texto: , Enlace: https://de.wikipedia.org/wiki/Python\n",
      "Texto: , Enlace: https://eo.wikipedia.org/wiki/Pitono_(apartigilo)\n",
      "Texto: , Enlace: https://eu.wikipedia.org/wiki/Python_(argipena)\n",
      "Texto: , Enlace: https://fa.wikipedia.org/wiki/%D9%BE%D8%A7%DB%8C%D8%AA%D9%88%D9%86\n",
      "Texto: , Enlace: https://fr.wikipedia.org/wiki/Python\n",
      "Texto: , Enlace: https://ko.wikipedia.org/wiki/%ED%8C%8C%EC%9D%B4%EC%84%A0\n",
      "Texto: , Enlace: https://hr.wikipedia.org/wiki/Python_(razdvojba)\n",
      "Texto: , Enlace: https://io.wikipedia.org/wiki/Pitono\n",
      "Texto: , Enlace: https://id.wikipedia.org/wiki/Python\n",
      "Texto: , Enlace: https://ia.wikipedia.org/wiki/Python_(disambiguation)\n",
      "Texto: , Enlace: https://is.wikipedia.org/wiki/Python_(a%C3%B0greining)\n",
      "Texto: , Enlace: https://it.wikipedia.org/wiki/Python_(disambigua)\n",
      "Texto: , Enlace: https://he.wikipedia.org/wiki/%D7%A4%D7%99%D7%AA%D7%95%D7%9F\n",
      "Texto: , Enlace: https://ka.wikipedia.org/wiki/%E1%83%9E%E1%83%98%E1%83%97%E1%83%9D%E1%83%9C%E1%83%98_(%E1%83%9B%E1%83%A0%E1%83%90%E1%83%95%E1%83%90%E1%83%9A%E1%83%9B%E1%83%9C%E1%83%98%E1%83%A8%E1%83%95%E1%83%9C%E1%83%94%E1%83%9A%E1%83%9D%E1%83%95%E1%83%90%E1%83%9C%E1%83%98)\n",
      "Texto: , Enlace: https://kg.wikipedia.org/wiki/Mboma_(nyoka)\n",
      "Texto: , Enlace: https://la.wikipedia.org/wiki/Python_(discretiva)\n",
      "Texto: , Enlace: https://lb.wikipedia.org/wiki/Python\n",
      "Texto: , Enlace: https://hu.wikipedia.org/wiki/Python_(egy%C3%A9rtelm%C5%B1s%C3%ADt%C5%91_lap)\n",
      "Texto: , Enlace: https://mr.wikipedia.org/wiki/%E0%A4%AA%E0%A4%BE%E0%A4%AF%E0%A4%A5%E0%A5%89%E0%A4%A8_(%E0%A4%86%E0%A4%9C%E0%A5%8D%E0%A4%9E%E0%A4%BE%E0%A4%B5%E0%A4%B2%E0%A5%80_%E0%A4%AD%E0%A4%BE%E0%A4%B7%E0%A4%BE)\n",
      "Texto: , Enlace: https://nl.wikipedia.org/wiki/Python\n",
      "Texto: , Enlace: https://ja.wikipedia.org/wiki/%E3%83%91%E3%82%A4%E3%82%BD%E3%83%B3\n",
      "Texto: , Enlace: https://no.wikipedia.org/wiki/Pyton\n",
      "Texto: , Enlace: https://pl.wikipedia.org/wiki/Pyton\n",
      "Texto: , Enlace: https://pt.wikipedia.org/wiki/Python_(desambigua%C3%A7%C3%A3o)\n",
      "Texto: , Enlace: https://ru.wikipedia.org/wiki/Python_(%D0%B7%D0%BD%D0%B0%D1%87%D0%B5%D0%BD%D0%B8%D1%8F)\n",
      "Texto: , Enlace: https://sk.wikipedia.org/wiki/Python\n",
      "Texto: , Enlace: https://sr.wikipedia.org/wiki/%D0%9F%D0%B8%D1%82%D0%BE%D0%BD_(%D0%B2%D0%B8%D1%88%D0%B5%D0%B7%D0%BD%D0%B0%D1%87%D0%BD%D0%B0_%D0%BE%D0%B4%D1%80%D0%B5%D0%B4%D0%BD%D0%B8%D1%86%D0%B0)\n",
      "Texto: , Enlace: https://sh.wikipedia.org/wiki/Python\n",
      "Texto: , Enlace: https://fi.wikipedia.org/wiki/Python\n",
      "Texto: , Enlace: https://sv.wikipedia.org/wiki/Pyton\n",
      "Texto: , Enlace: https://th.wikipedia.org/wiki/%E0%B9%84%E0%B8%9E%E0%B8%97%E0%B8%AD%E0%B8%99\n",
      "Texto: , Enlace: https://tr.wikipedia.org/wiki/Python_(anlam_ayr%C4%B1m%C4%B1)\n",
      "Texto: , Enlace: https://uk.wikipedia.org/wiki/%D0%9F%D1%96%D1%84%D0%BE%D0%BD\n",
      "Texto: , Enlace: https://ur.wikipedia.org/wiki/%D9%BE%D8%A7%D8%A6%DB%8C%D8%AA%DA%BE%D9%88%D9%86\n",
      "Texto: , Enlace: https://vi.wikipedia.org/wiki/Python\n",
      "Texto: , Enlace: https://zh.wikipedia.org/wiki/Python_(%E6%B6%88%E6%AD%A7%E4%B9%89)\n",
      "Texto: Article, Enlace: https://en.wikipedia.org/wiki/Python\n",
      "Texto: Talk, Enlace: https://en.wikipedia.org/wiki/Talk:Python\n",
      "Texto: Read, Enlace: https://en.wikipedia.org/wiki/Python\n",
      "Texto: Edit, Enlace: https://en.wikipedia.org/w/index.php?title=Python&action=edit&editintro=Template:Disambig_editintro\n",
      "Texto: View history, Enlace: https://en.wikipedia.org/w/index.php?title=Python&action=history\n",
      "Texto: , Enlace: https://en.wikipedia.org/wiki/Python\n",
      "Texto: , Enlace: https://en.wikipedia.org/w/index.php?title=Python&action=edit\n",
      "Texto: , Enlace: https://en.wikipedia.org/w/index.php?title=Python&action=history\n",
      "Texto: , Enlace: https://en.wikipedia.org/wiki/Special:WhatLinksHere/Python\n",
      "Texto: , Enlace: https://en.wikipedia.org/wiki/Special:RecentChangesLinked/Python\n",
      "Texto: , Enlace: https://en.wikipedia.org/wiki/Wikipedia:File_Upload_Wizard\n",
      "Texto: , Enlace: https://en.wikipedia.org/wiki/Special:SpecialPages\n",
      "Texto: , Enlace: https://en.wikipedia.org/w/index.php?title=Python&oldid=1182751793\n",
      "Texto: , Enlace: https://en.wikipedia.org/w/index.php?title=Python&action=info\n",
      "Texto: , Enlace: https://en.wikipedia.org/w/index.php?title=Special:CiteThisPage&page=Python&id=1182751793&wpFormIdentifier=titleform\n",
      "Texto: , Enlace: https://en.wikipedia.org/w/index.php?title=Special:UrlShortener&url=https%3A%2F%2Fen.wikipedia.org%2Fwiki%2FPython\n",
      "Texto: , Enlace: https://www.wikidata.org/wiki/Special:EntityPage/Q747452\n",
      "Texto: , Enlace: https://www.wikidata.org/wiki/Special:EntityPage/Q747452#sitelinks-wikipedia\n",
      "Texto: , Enlace: https://en.wikipedia.org/w/index.php?title=Special:DownloadAsPdf&page=Python&action=show-download-screen\n",
      "Texto: , Enlace: https://en.wikipedia.org/w/index.php?title=Python&printable=yes\n",
      "Texto: , Enlace: https://commons.wikimedia.org/wiki/Category:Python\n",
      "Texto: Pythonidae, Enlace: https://en.wikipedia.org/wiki/Pythonidae\n",
      "Texto: Python (genus), Enlace: https://en.wikipedia.org/wiki/Python_(genus)\n",
      "Texto: Python (mythology), Enlace: https://en.wikipedia.org/wiki/Python_(mythology)\n",
      "Texto: Python (programming language), Enlace: https://en.wikipedia.org/wiki/Python_(programming_language)\n",
      "Texto: CMU Common Lisp, Enlace: https://en.wikipedia.org/wiki/CMU_Common_Lisp\n",
      "Texto: PERQ 3, Enlace: https://en.wikipedia.org/wiki/PERQ#PERQ_3\n",
      "Texto: Python of Aenus, Enlace: https://en.wikipedia.org/wiki/Python_of_Aenus\n",
      "Texto: Python (painter), Enlace: https://en.wikipedia.org/wiki/Python_(painter)\n",
      "Texto: Python of Byzantium, Enlace: https://en.wikipedia.org/wiki/Python_of_Byzantium\n",
      "Texto: Python of Catana, Enlace: https://en.wikipedia.org/wiki/Python_of_Catana\n",
      "Texto: Python Anghelo, Enlace: https://en.wikipedia.org/wiki/Python_Anghelo\n",
      "Texto: Python (Efteling), Enlace: https://en.wikipedia.org/wiki/Python_(Efteling)\n",
      "Texto: Python (Busch Gardens Tampa Bay), Enlace: https://en.wikipedia.org/wiki/Python_(Busch_Gardens_Tampa_Bay)\n",
      "Texto: Python (Coney Island, Cincinnati, Ohio), Enlace: https://en.wikipedia.org/wiki/Python_(Coney_Island,_Cincinnati,_Ohio)\n",
      "Texto: Python (automobile maker), Enlace: https://en.wikipedia.org/wiki/Python_(automobile_maker)\n",
      "Texto: Python (Ford prototype), Enlace: https://en.wikipedia.org/wiki/Python_(Ford_prototype)\n",
      "Texto: Python (missile), Enlace: https://en.wikipedia.org/wiki/Python_(missile)\n",
      "Texto: Python (nuclear primary), Enlace: https://en.wikipedia.org/wiki/Python_(nuclear_primary)\n",
      "Texto: Colt Python, Enlace: https://en.wikipedia.org/wiki/Colt_Python\n",
      "Texto: Python (codename), Enlace: https://en.wikipedia.org/wiki/Python_(codename)\n",
      "Texto: Python (film), Enlace: https://en.wikipedia.org/wiki/Python_(film)\n",
      "Texto: Monty Python, Enlace: https://en.wikipedia.org/wiki/Monty_Python\n",
      "Texto: Python (Monty) Pictures, Enlace: https://en.wikipedia.org/wiki/Python_(Monty)_Pictures\n",
      "Texto: Timon of Phlius, Enlace: https://en.wikipedia.org/wiki/Timon_of_Phlius\n",
      "Texto: Pyton, Enlace: https://en.wikipedia.org/wiki/Pyton\n",
      "Texto: Pithon, Enlace: https://en.wikipedia.org/wiki/Pithon\n",
      "Texto: Disambiguation pages, Enlace: https://en.wikipedia.org/wiki/Category:Disambiguation_pages\n",
      "Texto: Human name disambiguation pages, Enlace: https://en.wikipedia.org/wiki/Category:Human_name_disambiguation_pages\n",
      "Texto: Disambiguation pages with given-name-holder lists, Enlace: https://en.wikipedia.org/wiki/Category:Disambiguation_pages_with_given-name-holder_lists\n",
      "Texto: , Enlace: https://en.wikipedia.org/wiki/Category:Short_description_is_different_from_Wikidata\n",
      "Texto: , Enlace: https://en.wikipedia.org/wiki/Category:All_article_disambiguation_pages\n",
      "Texto: , Enlace: https://en.wikipedia.org/wiki/Category:All_disambiguation_pages\n",
      "Texto: , Enlace: https://en.wikipedia.org/wiki/Category:Animal_common_name_disambiguation_pages\n",
      "Texto: Creative Commons Attribution-ShareAlike License 4.0, Enlace: https://en.wikipedia.org/wiki/Wikipedia:Text_of_the_Creative_Commons_Attribution-ShareAlike_4.0_International_License\n",
      "Texto: , Enlace: https://en.wikipedia.org/wiki/Wikipedia:Text_of_the_Creative_Commons_Attribution-ShareAlike_4.0_International_License\n",
      "Texto: Terms of Use, Enlace: https://foundation.wikimedia.org/wiki/Terms_of_Use\n",
      "Texto: Privacy Policy, Enlace: https://foundation.wikimedia.org/wiki/Privacy_policy\n",
      "Texto: Wikimedia Foundation, Inc., Enlace: https://www.wikimediafoundation.org/\n",
      "Texto: Privacy policy, Enlace: https://foundation.wikimedia.org/wiki/Special:MyLanguage/Policy:Privacy_policy\n",
      "Texto: About Wikipedia, Enlace: https://en.wikipedia.org/wiki/Wikipedia:About\n",
      "Texto: Disclaimers, Enlace: https://en.wikipedia.org/wiki/Wikipedia:General_disclaimer\n",
      "Texto: Contact Wikipedia, Enlace: https://en.wikipedia.org/wiki/Wikipedia:Contact_us\n",
      "Texto: Code of Conduct, Enlace: https://foundation.wikimedia.org/wiki/Special:MyLanguage/Universal_Code_of_Conduct\n",
      "Texto: Developers, Enlace: https://developer.wikimedia.org/\n",
      "Texto: Statistics, Enlace: https://stats.wikimedia.org/#/en.wikipedia.org\n",
      "Texto: Cookie statement, Enlace: https://foundation.wikimedia.org/wiki/Special:MyLanguage/Policy:Cookie_statement\n",
      "Texto: Mobile view, Enlace: https://en.m.wikipedia.org/w/index.php?title=Python&mobileaction=toggle_view_mobile\n",
      "Texto: , Enlace: https://en.wikipedia.org/wiki/Python#\n",
      "Texto: , Enlace: https://wikimediafoundation.org/\n",
      "Texto: , Enlace: https://www.mediawiki.org/\n"
     ]
    }
   ],
   "source": [
    "\n",
    "# Encuentra todos los elementos <a> dentro de elementos <li>\n",
    "link_elements = driver.find_elements(By.CSS_SELECTOR, 'li a')\n",
    "\n",
    "# Extrae los enlaces y los textos asociados\n",
    "links = [(element.get_attribute(\"href\"), element.text) for element in link_elements]\n",
    "\n",
    "# Imprime los enlaces\n",
    "for link, text in links:\n",
    "    print(f\"Texto: {text}, Enlace: {link}\")\n",
    "\n"
   ]
  },
  {
   "cell_type": "code",
   "execution_count": 382,
   "metadata": {},
   "outputs": [],
   "source": [
    "driver.quit()"
   ]
  },
  {
   "cell_type": "markdown",
   "metadata": {},
   "source": [
    "#### Number of Titles that have changed in the United States Code since its last release point "
   ]
  },
  {
   "cell_type": "code",
   "execution_count": 383,
   "metadata": {},
   "outputs": [],
   "source": [
    "# This is the url you will scrape in this exercise\n",
    "url = 'http://uscode.house.gov/download/download.shtml'"
   ]
  },
  {
   "cell_type": "code",
   "execution_count": 384,
   "metadata": {},
   "outputs": [],
   "source": [
    "#your code\n",
    "driver = webdriver.Chrome(options = opciones)\n",
    "driver.get(url)"
   ]
  },
  {
   "cell_type": "code",
   "execution_count": 397,
   "metadata": {},
   "outputs": [],
   "source": [
    "titulos = driver.find_elements(By.CSS_SELECTOR, 'div.usctitle')"
   ]
  },
  {
   "cell_type": "code",
   "execution_count": 409,
   "metadata": {},
   "outputs": [],
   "source": [
    "indice = []\n",
    "for i in titulos:\n",
    "    indice.append(i.text)\n",
    "indice = indice[2:]   "
   ]
  },
  {
   "cell_type": "code",
   "execution_count": 415,
   "metadata": {},
   "outputs": [
    {
     "data": {
      "text/plain": [
       "['Title 1 - General Provisions ٭',\n",
       " 'Title 2 - The Congress',\n",
       " 'Title 3 - The President ٭']"
      ]
     },
     "execution_count": 415,
     "metadata": {},
     "output_type": "execute_result"
    }
   ],
   "source": [
    "indice = [i.text for i in titulos][2:]\n",
    "indice[:3]\n"
   ]
  },
  {
   "cell_type": "code",
   "execution_count": 416,
   "metadata": {},
   "outputs": [],
   "source": [
    "driver.quit()"
   ]
  },
  {
   "cell_type": "markdown",
   "metadata": {},
   "source": [
    "#### A Python list with the top ten FBI's Most Wanted names "
   ]
  },
  {
   "cell_type": "code",
   "execution_count": 361,
   "metadata": {},
   "outputs": [],
   "source": [
    "# This is the url you will scrape in this exercise\n",
    "url = 'https://www.fbi.gov/wanted/topten'"
   ]
  },
  {
   "cell_type": "code",
   "execution_count": 362,
   "metadata": {},
   "outputs": [],
   "source": [
    "#your code \n",
    "driver = webdriver.Chrome(options = opciones)\n",
    "driver.get(url)"
   ]
  },
  {
   "cell_type": "code",
   "execution_count": 363,
   "metadata": {},
   "outputs": [],
   "source": [
    "nombres =  driver.find_elements(By.CSS_SELECTOR,'h3.title')"
   ]
  },
  {
   "cell_type": "code",
   "execution_count": 364,
   "metadata": {},
   "outputs": [
    {
     "data": {
      "text/plain": [
       "['ARNOLDO JIMENEZ',\n",
       " 'OMAR ALEXANDER CARDENAS',\n",
       " 'YULAN ADONAY ARCHAGA CARIAS',\n",
       " 'BHADRESHKUMAR CHETANBHAI PATEL',\n",
       " 'DONALD EUGENE FIELDS II',\n",
       " 'RUJA IGNATOVA',\n",
       " 'WILVER VILLEGAS-PALOMINO',\n",
       " 'ALEJANDRO ROSALES CASTILLO',\n",
       " 'ALEXIS FLORES',\n",
       " 'JOSE RODOLFO VILLARREAL-HERNANDEZ']"
      ]
     },
     "execution_count": 364,
     "metadata": {},
     "output_type": "execute_result"
    }
   ],
   "source": [
    "lista = []\n",
    "for i in nombres:\n",
    "    lista.append(i.text)\n",
    "lista    "
   ]
  },
  {
   "cell_type": "code",
   "execution_count": 365,
   "metadata": {},
   "outputs": [],
   "source": [
    "driver.quit()"
   ]
  },
  {
   "cell_type": "markdown",
   "metadata": {},
   "source": [
    "####  20 latest earthquakes info (date, time, latitude, longitude and region name) by the EMSC as a pandas dataframe"
   ]
  },
  {
   "cell_type": "code",
   "execution_count": 481,
   "metadata": {},
   "outputs": [],
   "source": [
    "# This is the url you will scrape in this exercise\n",
    "url = 'https://www.emsc-csem.org/Earthquake/'"
   ]
  },
  {
   "cell_type": "code",
   "execution_count": 482,
   "metadata": {},
   "outputs": [],
   "source": [
    "#your code\n",
    "driver = webdriver.Chrome(options = opciones)\n",
    "driver.get(url)\n"
   ]
  },
  {
   "cell_type": "code",
   "execution_count": 483,
   "metadata": {},
   "outputs": [],
   "source": [
    "columnas = driver.find_elements(By.CSS_SELECTOR, 'tr')[0].text"
   ]
  },
  {
   "cell_type": "code",
   "execution_count": 485,
   "metadata": {},
   "outputs": [
    {
     "data": {
      "text/plain": [
       "'2023-11-01 14:09:01\\n32 min ago\\n36.796 -3.026 9 2.2 STRAIT OF GIBRALTAR'"
      ]
     },
     "execution_count": 485,
     "metadata": {},
     "output_type": "execute_result"
    }
   ],
   "source": [
    "driver.find_elements(By.CSS_SELECTOR, 'tr')[10].text"
   ]
  },
  {
   "cell_type": "code",
   "execution_count": 486,
   "metadata": {},
   "outputs": [
    {
     "data": {
      "text/plain": [
       "'2023-11-01 14:09:01\\n32 min ago\\n36.796 -3.026 9 2.2 STRAIT OF GIBRALTAR'"
      ]
     },
     "execution_count": 486,
     "metadata": {},
     "output_type": "execute_result"
    }
   ],
   "source": [
    "driver.find_elements(By.TAG_NAME, 'tr')[10].text"
   ]
  },
  {
   "cell_type": "code",
   "execution_count": 487,
   "metadata": {},
   "outputs": [
    {
     "data": {
      "text/plain": [
       "[]"
      ]
     },
     "execution_count": 487,
     "metadata": {},
     "output_type": "execute_result"
    }
   ],
   "source": [
    "driver.find_elements(By.XPATH, 'tr')"
   ]
  },
  {
   "cell_type": "code",
   "execution_count": 488,
   "metadata": {},
   "outputs": [
    {
     "data": {
      "text/plain": [
       "[]"
      ]
     },
     "execution_count": 488,
     "metadata": {},
     "output_type": "execute_result"
    }
   ],
   "source": [
    "driver.find_elements(By.CLASS_NAME, 'tr')"
   ]
  },
  {
   "cell_type": "code",
   "execution_count": 489,
   "metadata": {},
   "outputs": [],
   "source": [
    "tabla =driver.find_elements(By.TAG_NAME, 'tr')"
   ]
  },
  {
   "cell_type": "code",
   "execution_count": 490,
   "metadata": {},
   "outputs": [],
   "source": [
    "lista = []\n",
    "for i in tabla:\n",
    "    lista.append(i.text.replace(' ',','))\n",
    "lista = lista[6:26]"
   ]
  },
  {
   "cell_type": "code",
   "execution_count": 497,
   "metadata": {},
   "outputs": [
    {
     "data": {
      "text/plain": [
       "['2023-11-01,14:33:41\\n7,min,ago\\n37.610,21.810,5,2.5,SOUTHERN,GREECE',\n",
       " '2023-11-01,14:30:21\\n11,min,ago\\n19.402,-155.264,4,2.0,ISLAND,OF,HAWAII,,HAWAII',\n",
       " '2023-11-01,14:29:27\\n12,min,ago\\n37.875,36.335,3,2.1,CENTRAL,TURKEY',\n",
       " '2023-11-01,14:10:58\\n30,min,ago\\n19.483,-155.489,-0,2.5,ISLAND,OF,HAWAII,,HAWAII',\n",
       " '2023-11-01,14:09:01\\n32,min,ago\\n36.796,-3.026,9,2.2,STRAIT,OF,GIBRALTAR',\n",
       " '2023-11-01,14:00:40\\n40,min,ago\\n45.943,13.823,6,1.2,SLOVENIA',\n",
       " '2023-11-01,13:57:28\\n44,min,ago\\n37.870,36.359,5,2.7,CENTRAL,TURKEY',\n",
       " '2023-11-01,13:50:15\\n51,min,ago\\n45.937,10.947,6,1.1,NORTHERN,ITALY',\n",
       " '2023-11-01,13:46:29\\n55,min,ago\\n39.161,20.542,4,2.0,GREECE',\n",
       " '2023-11-01,13:44:37\\n56,min,ago\\n-2.960,128.840,10,2.6,CERAM,SEA,,INDONESIA',\n",
       " '2023-11-01,13:43:45\\n57,min,ago\\n35.760,26.920,33,2.2,CRETE,,GREECE',\n",
       " '2023-11-01,13:27:52\\n1,hr,13,min,ago\\n41.439,28.428,3,2.4,WESTERN,TURKEY',\n",
       " '2023-11-01,13:25:48\\n1,hr,15,min,ago\\n-2.820,135.470,10,3.8,NEAR,N,COAST,OF,PAPUA,,INDONESIA',\n",
       " '2023-11-01,13:22:17\\n1,hr,19,min,ago\\n-20.340,-69.000,102,2.9,TARAPACA,,CHILE',\n",
       " '2023-11-01,12:58:48\\n1,hr,42,min,ago\\n36.036,36.103,5,2.9,TURKEY-SYRIA,BORDER,REGION',\n",
       " '2023-11-01,12:53:08\\n1,hr,48,min,ago\\n38.080,23.480,7,2.0,GREECE',\n",
       " '2023-11-01,12:51:15\\n1,hr,50,min,ago\\n10.925,93.060,94,5.1,ANDAMAN,ISLANDS,,INDIA,REGION',\n",
       " '2023-11-01,12:49:31\\n1,hr,52,min,ago\\n-12.400,-77.020,54,3.7,NEAR,COAST,OF,CENTRAL,PERU',\n",
       " '2023-11-01,12:48:50\\n1,hr,52,min,ago\\n-5.090,104.130,10,2.5,SOUTHERN,SUMATRA,,INDONESIA',\n",
       " '2023-11-01,12:31:58\\n2,hr,09,min,ago\\n38.890,23.310,10,2.0,GREECE']"
      ]
     },
     "execution_count": 497,
     "metadata": {},
     "output_type": "execute_result"
    }
   ],
   "source": [
    "lista"
   ]
  },
  {
   "cell_type": "code",
   "execution_count": 543,
   "metadata": {},
   "outputs": [
    {
     "data": {
      "text/html": [
       "<div>\n",
       "<style scoped>\n",
       "    .dataframe tbody tr th:only-of-type {\n",
       "        vertical-align: middle;\n",
       "    }\n",
       "\n",
       "    .dataframe tbody tr th {\n",
       "        vertical-align: top;\n",
       "    }\n",
       "\n",
       "    .dataframe thead th {\n",
       "        text-align: right;\n",
       "    }\n",
       "</style>\n",
       "<table border=\"1\" class=\"dataframe\">\n",
       "  <thead>\n",
       "    <tr style=\"text-align: right;\">\n",
       "      <th></th>\n",
       "      <th>Fecha</th>\n",
       "      <th>Tiempo</th>\n",
       "      <th>Latitud</th>\n",
       "      <th>Longitud</th>\n",
       "      <th>region</th>\n",
       "    </tr>\n",
       "  </thead>\n",
       "  <tbody>\n",
       "    <tr>\n",
       "      <th>0</th>\n",
       "      <td>2023-11-01</td>\n",
       "      <td>14:33:41\\n7</td>\n",
       "      <td>ago\\n37.610</td>\n",
       "      <td>21.810</td>\n",
       "      <td>SOUTHERN,GREECE</td>\n",
       "    </tr>\n",
       "    <tr>\n",
       "      <th>1</th>\n",
       "      <td>2023-11-01</td>\n",
       "      <td>14:30:21\\n11</td>\n",
       "      <td>ago\\n19.402</td>\n",
       "      <td>-155.264</td>\n",
       "      <td>ISLAND,OF,HAWAII,,HAWAII</td>\n",
       "    </tr>\n",
       "    <tr>\n",
       "      <th>2</th>\n",
       "      <td>2023-11-01</td>\n",
       "      <td>14:29:27\\n12</td>\n",
       "      <td>ago\\n37.875</td>\n",
       "      <td>36.335</td>\n",
       "      <td>CENTRAL,TURKEY</td>\n",
       "    </tr>\n",
       "    <tr>\n",
       "      <th>3</th>\n",
       "      <td>2023-11-01</td>\n",
       "      <td>14:10:58\\n30</td>\n",
       "      <td>ago\\n19.483</td>\n",
       "      <td>-155.489</td>\n",
       "      <td>ISLAND,OF,HAWAII,,HAWAII</td>\n",
       "    </tr>\n",
       "    <tr>\n",
       "      <th>4</th>\n",
       "      <td>2023-11-01</td>\n",
       "      <td>14:09:01\\n32</td>\n",
       "      <td>ago\\n36.796</td>\n",
       "      <td>-3.026</td>\n",
       "      <td>STRAIT,OF,GIBRALTAR</td>\n",
       "    </tr>\n",
       "  </tbody>\n",
       "</table>\n",
       "</div>"
      ],
      "text/plain": [
       "        Fecha        Tiempo      Latitud  Longitud                    region\n",
       "0  2023-11-01   14:33:41\\n7  ago\\n37.610    21.810           SOUTHERN,GREECE\n",
       "1  2023-11-01  14:30:21\\n11  ago\\n19.402  -155.264  ISLAND,OF,HAWAII,,HAWAII\n",
       "2  2023-11-01  14:29:27\\n12  ago\\n37.875    36.335            CENTRAL,TURKEY\n",
       "3  2023-11-01  14:10:58\\n30  ago\\n19.483  -155.489  ISLAND,OF,HAWAII,,HAWAII\n",
       "4  2023-11-01  14:09:01\\n32  ago\\n36.796    -3.026       STRAIT,OF,GIBRALTAR"
      ]
     },
     "execution_count": 543,
     "metadata": {},
     "output_type": "execute_result"
    }
   ],
   "source": [
    "data = lista.copy()\n",
    "\n",
    "fechas = []\n",
    "tiempos = []\n",
    "latitudes = []\n",
    "longitudes = []\n",
    "region = []\n",
    "\n",
    "for row in data:\n",
    "\n",
    "    parts = row.split(',')\n",
    "\n",
    "\n",
    "    fechas.append(parts[0])\n",
    "    tiempos.append(parts[1])\n",
    "    latitudes.append(parts[3])\n",
    "    longitudes.append(parts[4])\n",
    "    region.append(','.join(parts[7:]))\n",
    "\n",
    "\n",
    "df = pd.DataFrame({\n",
    "    \"Fecha\": fechas,\n",
    "    \"Tiempo\": tiempos,\n",
    "    \"Latitud\": latitudes,\n",
    "    \"Longitud\": longitudes,\n",
    "    \"region\": region\n",
    "})\n",
    "\n",
    "df.head()"
   ]
  },
  {
   "cell_type": "code",
   "execution_count": 544,
   "metadata": {},
   "outputs": [
    {
     "data": {
      "text/html": [
       "<div>\n",
       "<style scoped>\n",
       "    .dataframe tbody tr th:only-of-type {\n",
       "        vertical-align: middle;\n",
       "    }\n",
       "\n",
       "    .dataframe tbody tr th {\n",
       "        vertical-align: top;\n",
       "    }\n",
       "\n",
       "    .dataframe thead th {\n",
       "        text-align: right;\n",
       "    }\n",
       "</style>\n",
       "<table border=\"1\" class=\"dataframe\">\n",
       "  <thead>\n",
       "    <tr style=\"text-align: right;\">\n",
       "      <th></th>\n",
       "      <th>Fecha</th>\n",
       "      <th>Tiempo</th>\n",
       "      <th>Latitud</th>\n",
       "      <th>Longitud</th>\n",
       "      <th>region</th>\n",
       "    </tr>\n",
       "  </thead>\n",
       "  <tbody>\n",
       "    <tr>\n",
       "      <th>0</th>\n",
       "      <td>2023-11-01</td>\n",
       "      <td>14:33:41</td>\n",
       "      <td>37.610</td>\n",
       "      <td>21.810</td>\n",
       "      <td>SOUTHERN,GREECE</td>\n",
       "    </tr>\n",
       "    <tr>\n",
       "      <th>1</th>\n",
       "      <td>2023-11-01</td>\n",
       "      <td>14:30:21</td>\n",
       "      <td>19.402</td>\n",
       "      <td>-155.264</td>\n",
       "      <td>ISLAND,OF,HAWAII,,HAWAII</td>\n",
       "    </tr>\n",
       "    <tr>\n",
       "      <th>2</th>\n",
       "      <td>2023-11-01</td>\n",
       "      <td>14:29:27</td>\n",
       "      <td>37.875</td>\n",
       "      <td>36.335</td>\n",
       "      <td>CENTRAL,TURKEY</td>\n",
       "    </tr>\n",
       "    <tr>\n",
       "      <th>3</th>\n",
       "      <td>2023-11-01</td>\n",
       "      <td>14:10:58</td>\n",
       "      <td>19.483</td>\n",
       "      <td>-155.489</td>\n",
       "      <td>ISLAND,OF,HAWAII,,HAWAII</td>\n",
       "    </tr>\n",
       "    <tr>\n",
       "      <th>4</th>\n",
       "      <td>2023-11-01</td>\n",
       "      <td>14:09:01</td>\n",
       "      <td>36.796</td>\n",
       "      <td>-3.026</td>\n",
       "      <td>STRAIT,OF,GIBRALTAR</td>\n",
       "    </tr>\n",
       "  </tbody>\n",
       "</table>\n",
       "</div>"
      ],
      "text/plain": [
       "        Fecha    Tiempo Latitud  Longitud                    region\n",
       "0  2023-11-01  14:33:41  37.610    21.810           SOUTHERN,GREECE\n",
       "1  2023-11-01  14:30:21  19.402  -155.264  ISLAND,OF,HAWAII,,HAWAII\n",
       "2  2023-11-01  14:29:27  37.875    36.335            CENTRAL,TURKEY\n",
       "3  2023-11-01  14:10:58  19.483  -155.489  ISLAND,OF,HAWAII,,HAWAII\n",
       "4  2023-11-01  14:09:01  36.796    -3.026       STRAIT,OF,GIBRALTAR"
      ]
     },
     "execution_count": 544,
     "metadata": {},
     "output_type": "execute_result"
    }
   ],
   "source": [
    "df['Tiempo'] = df['Tiempo'].str.split('\\n').str[0]\n",
    "df['Latitud'] = df['Latitud'].str.split('\\n').str[1]\n",
    "df.head()"
   ]
  },
  {
   "cell_type": "code",
   "execution_count": 545,
   "metadata": {},
   "outputs": [],
   "source": [
    "driver.quit()"
   ]
  },
  {
   "cell_type": "markdown",
   "metadata": {},
   "source": [
    "#### Count number of tweets by a given Twitter account."
   ]
  },
  {
   "cell_type": "markdown",
   "metadata": {},
   "source": [
    "You will need to include a ***try/except block*** for account names not found. \n",
    "<br>***Hint:*** the program should count the number of tweets for any provided account"
   ]
  },
  {
   "cell_type": "code",
   "execution_count": 638,
   "metadata": {},
   "outputs": [],
   "source": [
    "# This is the url you will scrape in this exercise \n",
    "# You will need to add the account credentials to this url\n",
    "url = 'https://twitter.com/TradeOne_'"
   ]
  },
  {
   "cell_type": "code",
   "execution_count": 639,
   "metadata": {},
   "outputs": [],
   "source": [
    "#your code\n",
    "driver = webdriver.Chrome(options = opciones)\n",
    "driver.get(url)"
   ]
  },
  {
   "cell_type": "code",
   "execution_count": 647,
   "metadata": {},
   "outputs": [
    {
     "data": {
      "text/plain": [
       "['TradeOne', '735', 'posts']"
      ]
     },
     "execution_count": 647,
     "metadata": {},
     "output_type": "execute_result"
    }
   ],
   "source": [
    "driver.find_elements(By.CLASS_NAME, 'css-1dbjc4n.r-1habvwh')[13].text.split()[:3]"
   ]
  },
  {
   "cell_type": "code",
   "execution_count": 648,
   "metadata": {},
   "outputs": [],
   "source": [
    "driver.quit()"
   ]
  },
  {
   "cell_type": "code",
   "execution_count": 649,
   "metadata": {},
   "outputs": [],
   "source": [
    "url = 'https://twitter.com/eTeamTora'"
   ]
  },
  {
   "cell_type": "code",
   "execution_count": 650,
   "metadata": {},
   "outputs": [],
   "source": [
    "driver = webdriver.Chrome(options = opciones)\n",
    "driver.get(url)"
   ]
  },
  {
   "cell_type": "code",
   "execution_count": 651,
   "metadata": {},
   "outputs": [
    {
     "data": {
      "text/plain": [
       "['虎', 'Tora', '2.551', 'posts']"
      ]
     },
     "execution_count": 651,
     "metadata": {},
     "output_type": "execute_result"
    }
   ],
   "source": [
    "driver.find_elements(By.CLASS_NAME, 'css-1dbjc4n.r-1habvwh')[3].text.split()[:4]"
   ]
  },
  {
   "cell_type": "code",
   "execution_count": 591,
   "metadata": {},
   "outputs": [],
   "source": [
    "driver.quit()"
   ]
  },
  {
   "cell_type": "code",
   "execution_count": 612,
   "metadata": {},
   "outputs": [],
   "source": [
    "url='https://twitter.com/UnderDogsSYN'"
   ]
  },
  {
   "cell_type": "code",
   "execution_count": 613,
   "metadata": {},
   "outputs": [],
   "source": [
    "driver = webdriver.Chrome(options = opciones)\n",
    "driver.get(url)"
   ]
  },
  {
   "cell_type": "code",
   "execution_count": 614,
   "metadata": {},
   "outputs": [
    {
     "data": {
      "text/plain": [
       "['UnderDogs', 'SYN', '7.334', 'posts']"
      ]
     },
     "execution_count": 614,
     "metadata": {},
     "output_type": "execute_result"
    }
   ],
   "source": [
    "driver.find_elements(By.CLASS_NAME, 'css-1dbjc4n.r-1habvwh')[3].text.split()[:4]"
   ]
  },
  {
   "cell_type": "code",
   "execution_count": 596,
   "metadata": {},
   "outputs": [],
   "source": [
    "driver.quit()"
   ]
  },
  {
   "cell_type": "code",
   "execution_count": 615,
   "metadata": {},
   "outputs": [],
   "source": [
    "url = 'https://twitter.com/NeekEsports'"
   ]
  },
  {
   "cell_type": "code",
   "execution_count": 616,
   "metadata": {},
   "outputs": [],
   "source": [
    "driver = webdriver.Chrome(options = opciones)\n",
    "driver.get(url)"
   ]
  },
  {
   "cell_type": "code",
   "execution_count": 617,
   "metadata": {},
   "outputs": [
    {
     "data": {
      "text/plain": [
       "['Perfil']"
      ]
     },
     "execution_count": 617,
     "metadata": {},
     "output_type": "execute_result"
    }
   ],
   "source": [
    "driver.find_elements(By.CLASS_NAME, 'css-1dbjc4n.r-1habvwh')[5].text.split()[:4]"
   ]
  },
  {
   "cell_type": "code",
   "execution_count": 618,
   "metadata": {},
   "outputs": [],
   "source": [
    "driver.quit()"
   ]
  },
  {
   "cell_type": "markdown",
   "metadata": {},
   "source": [
    "#### Number of followers of a given twitter account"
   ]
  },
  {
   "cell_type": "markdown",
   "metadata": {},
   "source": [
    "You will need to include a ***try/except block*** in case account/s name not found. \n",
    "<br>***Hint:*** the program should count the followers for any provided account"
   ]
  },
  {
   "cell_type": "code",
   "execution_count": 652,
   "metadata": {},
   "outputs": [],
   "source": [
    "# This is the url you will scrape in this exercise \n",
    "# You will need to add the account credentials to this url\n",
    "url = 'https://twitter.com/TradeOne_'"
   ]
  },
  {
   "cell_type": "code",
   "execution_count": 653,
   "metadata": {},
   "outputs": [],
   "source": [
    "#your code\n",
    "driver = webdriver.Chrome(options = opciones)\n",
    "driver.get(url)"
   ]
  },
  {
   "cell_type": "code",
   "execution_count": 659,
   "metadata": {},
   "outputs": [
    {
     "data": {
      "text/plain": [
       "['391 Siguiendo', '190 Seguidores']"
      ]
     },
     "execution_count": 659,
     "metadata": {},
     "output_type": "execute_result"
    }
   ],
   "source": [
    "driver.find_elements(By.CLASS_NAME,'css-1dbjc4n.r-13awgt0.r-18u37iz.r-1w6e6rj')[0].text.split('\\n')"
   ]
  },
  {
   "cell_type": "code",
   "execution_count": 660,
   "metadata": {},
   "outputs": [],
   "source": [
    "url = 'https://twitter.com/realDonaldTrump'"
   ]
  },
  {
   "cell_type": "code",
   "execution_count": 661,
   "metadata": {},
   "outputs": [],
   "source": [
    "driver = webdriver.Chrome(options = opciones)\n",
    "driver.get(url)"
   ]
  },
  {
   "cell_type": "code",
   "execution_count": 665,
   "metadata": {},
   "outputs": [
    {
     "data": {
      "text/plain": [
       "['51 Siguiendo', '87,4 M Seguidores']"
      ]
     },
     "execution_count": 665,
     "metadata": {},
     "output_type": "execute_result"
    }
   ],
   "source": [
    "driver.find_elements(By.CLASS_NAME,'css-1dbjc4n.r-13awgt0.r-18u37iz.r-1w6e6rj')[0].text.split('\\n')"
   ]
  },
  {
   "cell_type": "code",
   "execution_count": 666,
   "metadata": {},
   "outputs": [],
   "source": [
    "url = 'https://twitter.com/UnderDogsSYN'"
   ]
  },
  {
   "cell_type": "code",
   "execution_count": 667,
   "metadata": {},
   "outputs": [],
   "source": [
    "driver = webdriver.Chrome(options = opciones)\n",
    "driver.get(url)"
   ]
  },
  {
   "cell_type": "code",
   "execution_count": 670,
   "metadata": {},
   "outputs": [
    {
     "data": {
      "text/plain": [
       "['497 Siguiendo', '5.148 Seguidores']"
      ]
     },
     "execution_count": 670,
     "metadata": {},
     "output_type": "execute_result"
    }
   ],
   "source": [
    "driver.find_elements(By.CLASS_NAME,'css-1dbjc4n.r-13awgt0.r-18u37iz.r-1w6e6rj')[0].text.split('\\n')"
   ]
  },
  {
   "cell_type": "markdown",
   "metadata": {},
   "source": [
    "#### List all language names and number of related articles in the order they appear in wikipedia.org"
   ]
  },
  {
   "cell_type": "code",
   "execution_count": 672,
   "metadata": {},
   "outputs": [],
   "source": [
    "# This is the url you will scrape in this exercise\n",
    "url = 'https://www.wikipedia.org/'"
   ]
  },
  {
   "cell_type": "code",
   "execution_count": 673,
   "metadata": {},
   "outputs": [],
   "source": [
    "#your code\n",
    "driver = webdriver.Chrome(options = opciones)\n",
    "driver.get(url)\n"
   ]
  },
  {
   "cell_type": "code",
   "execution_count": 678,
   "metadata": {},
   "outputs": [
    {
     "data": {
      "text/plain": [
       "['Español',\n",
       " '1 892 000+ artículos',\n",
       " 'English',\n",
       " '6 715 000+ articles',\n",
       " '日本語',\n",
       " '1 387 000+ 記事',\n",
       " 'Русский',\n",
       " '1 938 000+ статей',\n",
       " 'Deutsch',\n",
       " '2 836 000+ Artikel',\n",
       " 'Français',\n",
       " '2 553 000+ articles',\n",
       " 'Italiano',\n",
       " '1 826 000+ voci',\n",
       " '中文',\n",
       " '1 377 000+ 条目 / 條目',\n",
       " 'Português',\n",
       " '1 109 000+ artigos',\n",
       " 'العربية',\n",
       " '1 217 000+ مقالة']"
      ]
     },
     "execution_count": 678,
     "metadata": {},
     "output_type": "execute_result"
    }
   ],
   "source": [
    "driver.find_elements(By.CLASS_NAME,'central-featured')[0].text.split('\\n')"
   ]
  },
  {
   "cell_type": "code",
   "execution_count": 679,
   "metadata": {},
   "outputs": [],
   "source": [
    "driver.quit()"
   ]
  },
  {
   "cell_type": "markdown",
   "metadata": {},
   "source": [
    "#### A list with the different kind of datasets available in data.gov.uk "
   ]
  },
  {
   "cell_type": "code",
   "execution_count": 680,
   "metadata": {},
   "outputs": [],
   "source": [
    "# This is the url you will scrape in this exercise\n",
    "url = 'https://data.gov.uk/'"
   ]
  },
  {
   "cell_type": "code",
   "execution_count": 681,
   "metadata": {},
   "outputs": [],
   "source": [
    "#your code \n",
    "driver = webdriver.Chrome(options = opciones)\n",
    "driver.get(url)"
   ]
  },
  {
   "cell_type": "code",
   "execution_count": 695,
   "metadata": {},
   "outputs": [
    {
     "data": {
      "text/plain": [
       "['Search',\n",
       " 'Business and economy',\n",
       " 'Crime and justice',\n",
       " 'Defence',\n",
       " 'Education',\n",
       " 'Environment',\n",
       " 'Government',\n",
       " 'Government spending',\n",
       " 'Health',\n",
       " 'Mapping',\n",
       " 'Society',\n",
       " 'Towns and cities',\n",
       " 'Transport',\n",
       " 'Digital service performance',\n",
       " 'Government reference data']"
      ]
     },
     "execution_count": 695,
     "metadata": {},
     "output_type": "execute_result"
    }
   ],
   "source": [
    "driver.find_elements(By.CLASS_NAME ,'govuk-main-wrapper')[0].text.split('\\n')[3::2]"
   ]
  },
  {
   "cell_type": "code",
   "execution_count": 696,
   "metadata": {},
   "outputs": [],
   "source": [
    "driver.quit()"
   ]
  },
  {
   "cell_type": "markdown",
   "metadata": {},
   "source": [
    "#### Top 10 languages by number of native speakers stored in a Pandas Dataframe"
   ]
  },
  {
   "cell_type": "code",
   "execution_count": 707,
   "metadata": {},
   "outputs": [],
   "source": [
    "# This is the url you will scrape in this exercise\n",
    "url = 'https://en.wikipedia.org/wiki/List_of_languages_by_number_of_native_speakers'"
   ]
  },
  {
   "cell_type": "code",
   "execution_count": 708,
   "metadata": {},
   "outputs": [],
   "source": [
    "#your code\n",
    "driver = webdriver.Chrome(options = opciones)\n",
    "driver.get(url)"
   ]
  },
  {
   "cell_type": "code",
   "execution_count": 730,
   "metadata": {},
   "outputs": [
    {
     "data": {
      "text/plain": [
       "['Mandarin Chinese',\n",
       " '(incl. Standard Chinese, but excl. other varieties) 939 Sino-Tibetan Sinitic',\n",
       " 'Spanish 485 Indo-European Romance',\n",
       " 'English 380 Indo-European Germanic',\n",
       " 'Hindi',\n",
       " '(excl. Urdu, and other languages) 345 Indo-European Indo-Aryan',\n",
       " 'Portuguese 236 Indo-European Romance',\n",
       " 'Bengali 234 Indo-European Indo-Aryan',\n",
       " 'Russian 147 Indo-European Balto-Slavic',\n",
       " 'Japanese 123 Japonic Japanese',\n",
       " 'Yue Chinese',\n",
       " '(incl. Cantonese) 86.1 Sino-Tibetan Sinitic',\n",
       " 'Vietnamese 85.0 Austroasiatic Vietic',\n",
       " 'Turkish 84.0 Turkic Oghuz',\n",
       " 'Wu Chinese',\n",
       " '(incl. Shanghainese) 83.4 Sino-Tibetan Sinitic',\n",
       " 'Marathi 83.2 Indo-European Indo-Aryan',\n",
       " 'Telugu 83.0 Dravidian South-Central',\n",
       " 'Korean 81.7 Koreanic —',\n",
       " 'French 80.8 Indo-European Romance',\n",
       " 'Tamil 78.6 Dravidian South',\n",
       " 'Egyptian Spoken Arabic',\n",
       " '(excl. Saʽidi Arabic) 77.4 Afroasiatic Semitic',\n",
       " 'Standard German 75.3 Indo-European Germanic',\n",
       " 'Urdu',\n",
       " '(excl. Hindi) 70.6 Indo-European Indo-Aryan',\n",
       " 'Javanese 68.3 Austronesian Malayo-Polynesian',\n",
       " 'Western Punjabi',\n",
       " '(excl. Eastern Punjabi) 66.7 Indo-European Indo-Aryan',\n",
       " 'Italian 64.6 Indo-European Romance',\n",
       " 'Gujarati 57.1 Indo-European Indo-Aryan',\n",
       " 'Iranian Persian',\n",
       " '(excl. Dari and Tajik) 57.2 Indo-European Iranian',\n",
       " 'Bhojpuri 52.3 Indo-European Indo-Aryan',\n",
       " 'Hausa 51.7 Afroasiatic Chadic']"
      ]
     },
     "execution_count": 730,
     "metadata": {},
     "output_type": "execute_result"
    }
   ],
   "source": [
    "driver.find_elements(By.CSS_SELECTOR , 'tbody')[0].text.split('\\n')"
   ]
  },
  {
   "cell_type": "code",
   "execution_count": 746,
   "metadata": {},
   "outputs": [
    {
     "data": {
      "text/plain": [
       "'Mandarin Chinese'"
      ]
     },
     "execution_count": 746,
     "metadata": {},
     "output_type": "execute_result"
    }
   ],
   "source": [
    "driver.find_elements(By.CSS_SELECTOR , 'tbody')[0].text.split('\\n')[0]"
   ]
  },
  {
   "cell_type": "markdown",
   "metadata": {},
   "source": [
    "### BONUS QUESTIONS"
   ]
  },
  {
   "cell_type": "markdown",
   "metadata": {},
   "source": [
    "#### Scrape a certain number of tweets of a given Twitter account."
   ]
  },
  {
   "cell_type": "code",
   "execution_count": null,
   "metadata": {},
   "outputs": [],
   "source": [
    "# This is the url you will scrape in this exercise \n",
    "# You will need to add the account credentials to this url\n",
    "url = 'https://twitter.com/'"
   ]
  },
  {
   "cell_type": "code",
   "execution_count": null,
   "metadata": {},
   "outputs": [],
   "source": [
    "# your code"
   ]
  },
  {
   "cell_type": "markdown",
   "metadata": {},
   "source": [
    "#### IMDB's Top 250 data (movie name, Initial release, director name and stars) as a pandas dataframe"
   ]
  },
  {
   "cell_type": "code",
   "execution_count": null,
   "metadata": {},
   "outputs": [],
   "source": [
    "# This is the url you will scrape in this exercise \n",
    "url = 'https://www.imdb.com/chart/top'"
   ]
  },
  {
   "cell_type": "code",
   "execution_count": null,
   "metadata": {},
   "outputs": [],
   "source": [
    "# your code"
   ]
  },
  {
   "cell_type": "markdown",
   "metadata": {},
   "source": [
    "#### Movie name, year and a brief summary of the top 10 random movies (IMDB) as a pandas dataframe."
   ]
  },
  {
   "cell_type": "code",
   "execution_count": null,
   "metadata": {},
   "outputs": [],
   "source": [
    "#This is the url you will scrape in this exercise\n",
    "url = 'http://www.imdb.com/chart/top'"
   ]
  },
  {
   "cell_type": "code",
   "execution_count": null,
   "metadata": {},
   "outputs": [],
   "source": [
    "#your code"
   ]
  },
  {
   "cell_type": "markdown",
   "metadata": {},
   "source": [
    "#### Find the live weather report (temperature, wind speed, description and weather) of a given city."
   ]
  },
  {
   "cell_type": "code",
   "execution_count": null,
   "metadata": {},
   "outputs": [],
   "source": [
    "#https://openweathermap.org/current\n",
    "city = city=input('Enter the city:')\n",
    "url = 'http://api.openweathermap.org/data/2.5/weather?'+'q='+city+'&APPID=b35975e18dc93725acb092f7272cc6b8&units=metric'"
   ]
  },
  {
   "cell_type": "code",
   "execution_count": null,
   "metadata": {},
   "outputs": [],
   "source": [
    "# your code"
   ]
  },
  {
   "cell_type": "markdown",
   "metadata": {},
   "source": [
    "#### Book name,price and stock availability as a pandas dataframe."
   ]
  },
  {
   "cell_type": "code",
   "execution_count": null,
   "metadata": {},
   "outputs": [],
   "source": [
    "# This is the url you will scrape in this exercise. \n",
    "# It is a fictional bookstore created to be scraped. \n",
    "url = 'http://books.toscrape.com/'"
   ]
  },
  {
   "cell_type": "code",
   "execution_count": null,
   "metadata": {},
   "outputs": [],
   "source": [
    "#your code"
   ]
  }
 ],
 "metadata": {
  "kernelspec": {
   "display_name": "Python 3 (ipykernel)",
   "language": "python",
   "name": "python3"
  },
  "language_info": {
   "codemirror_mode": {
    "name": "ipython",
    "version": 3
   },
   "file_extension": ".py",
   "mimetype": "text/x-python",
   "name": "python",
   "nbconvert_exporter": "python",
   "pygments_lexer": "ipython3",
   "version": "3.10.9"
  }
 },
 "nbformat": 4,
 "nbformat_minor": 2
}
